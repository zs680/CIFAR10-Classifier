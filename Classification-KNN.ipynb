{
 "cells": [
  {
   "cell_type": "markdown",
   "metadata": {},
   "source": [
    "### Dataset\n",
    "CIFAR-10 dataset consists of 60000 32x32 colour images in 10 classe"
   ]
  },
  {
   "cell_type": "markdown",
   "metadata": {},
   "source": [
    "### Goal\n",
    "bulding a classification pipeline by appling a dimension reduction model and then applying KNN. We tune hyperparameters through GridSearchCV."
   ]
  },
  {
   "cell_type": "code",
   "execution_count": 1,
   "metadata": {},
   "outputs": [],
   "source": [
    "import random\n",
    "import os\n",
    "import numpy as np\n",
    "import matplotlib.pyplot as plt\n",
    "import pickle\n",
    "\n",
    "from six.moves import cPickle as pickle\n",
    "\n",
    "from sklearn.decomposition import PCA\n",
    "from sklearn.discriminant_analysis import LinearDiscriminantAnalysis\n",
    "from sklearn.neighbors import KNeighborsClassifier\n",
    "from sklearn import svm\n",
    "\n",
    "                               \n",
    "from sklearn.pipeline import make_pipeline,Pipeline\n",
    "from sklearn.preprocessing import StandardScaler\n",
    "from sklearn.model_selection import GridSearchCV\n",
    "\n",
    "from sklearn.metrics import mean_squared_error\n",
    "from sklearn.metrics import accuracy_score\n",
    "\n",
    "\n",
    "# This is a bit of magic to make matplotlib figures appear inline in the notebook\n",
    "# rather than in a new window.\n",
    "%matplotlib inline\n",
    "plt.rcParams['figure.figsize'] = (10.0, 8.0) # set default size of plots\n",
    "plt.rcParams['image.interpolation'] = 'nearest'\n",
    "plt.rcParams['image.cmap'] = 'gray'\n",
    "\n",
    "# Some more magic so that the notebook will reload external python modules;\n",
    "# see http://stackoverflow.com/questions/1907993/autoreload-of-modules-in-ipython\n",
    "%load_ext autoreload\n",
    "%autoreload 2"
   ]
  },
  {
   "cell_type": "code",
   "execution_count": 2,
   "metadata": {},
   "outputs": [],
   "source": [
    "def load_CIFAR10(ROOT):\n",
    "    \"\"\" load all of cifar \"\"\"\n",
    "    xs=[]\n",
    "    ys=[]\n",
    "    for b in range(1,6):\n",
    "        filename = os.path.join(ROOT, 'data_batch_%d' % (b, ))\n",
    "        with open(filename, 'rb') as f:\n",
    "            datadict = pickle.load(f,encoding='latin1')\n",
    "            X = datadict['data']\n",
    "            Y = datadict['labels']\n",
    "            #X is of shape (10000, 3072) and Y is a list\n",
    "            \"\"\"X = X.reshape(10000, 3, 32, 32).transpose(0,2,3,1).astype(\"float\")\n",
    "            Y = np.array(Y)\"\"\"\n",
    "            xs.append(X)\n",
    "            ys.append(Y)\n",
    "    X_tr = np.concatenate(xs)\n",
    "    Y_tr = np.concatenate(ys)\n",
    "    del X, Y\n",
    "    filename = os.path.join(ROOT, 'test_batch')\n",
    "    #loading test data \n",
    "    with open(filename, 'rb') as f:\n",
    "        datadict = pickle.load(f,encoding='latin1')\n",
    "        X_te = datadict['data']\n",
    "        Y_te = datadict['labels']\n",
    "        \"\"\"X_te = X.reshape(10000, 3, 32, 32).transpose(0,2,3,1).astype(\"int\")\n",
    "        Y_te = np.array(Y)\"\"\"\n",
    "        \n",
    "    \n",
    "    return X_tr, Y_tr, X_te, Y_te"
   ]
  },
  {
   "cell_type": "code",
   "execution_count": 3,
   "metadata": {},
   "outputs": [],
   "source": [
    "cifar10_dir = 'cifar-10-batches-py'\n",
    "X_tr, y_tr, X_te, y_te = load_CIFAR10(cifar10_dir)"
   ]
  },
  {
   "cell_type": "code",
   "execution_count": 4,
   "metadata": {},
   "outputs": [
    {
     "name": "stdout",
     "output_type": "stream",
     "text": [
      "X_train shape is (50000, 3072)\n",
      "X_test shape is (10000, 3072)\n",
      "y_train shape is (50000,)\n",
      "ytest shape is (50000,)\n",
      "number of calsses is [0 1 2 3 4 5 6 7 8 9]\n"
     ]
    }
   ],
   "source": [
    "print(\"X_train shape is\",X_tr.shape)\n",
    "print(\"X_test shape is\",X_te.shape)\n",
    "print(\"y_train shape is\",y_tr.shape)\n",
    "print(\"ytest shape is\",y_tr.shape)\n",
    "print(\"number of calsses is\",np.unique(y_tr))"
   ]
  },
  {
   "cell_type": "code",
   "execution_count": 5,
   "metadata": {},
   "outputs": [],
   "source": [
    "X = X_tr[100].reshape(3, 32, 32).transpose(1,2,0).astype(\"float\")"
   ]
  },
  {
   "cell_type": "code",
   "execution_count": 6,
   "metadata": {},
   "outputs": [
    {
     "name": "stderr",
     "output_type": "stream",
     "text": [
      "Clipping input data to the valid range for imshow with RGB data ([0..1] for floats or [0..255] for integers).\n"
     ]
    },
    {
     "data": {
      "text/plain": [
       "<matplotlib.image.AxesImage at 0x7f1641c14d90>"
      ]
     },
     "execution_count": 6,
     "metadata": {},
     "output_type": "execute_result"
    },
    {
     "data": {
      "image/png": "[encoded data removed]",
      "text/plain": [
       "<Figure size 720x576 with 1 Axes>"
      ]
     },
     "metadata": {
      "needs_background": "light"
     },
     "output_type": "display_data"
    }
   ],
   "source": [
    "plt.imshow(X)"
   ]
  },
  {
   "cell_type": "code",
   "execution_count": 7,
   "metadata": {},
   "outputs": [],
   "source": [
    "sc=StandardScaler()\n",
    "pca=PCA()\n",
    "lda=LinearDiscriminantAnalysis()\n",
    "knn=KNeighborsClassifier()\n",
    "pipe=Pipeline(steps=[('sc',sc),('pca', pca), ('lda', lda),('knn',knn)])\n"
   ]
  },
  {
   "cell_type": "code",
   "execution_count": 8,
   "metadata": {},
   "outputs": [
    {
     "data": {
      "text/plain": [
       "GridSearchCV(cv=5,\n",
       "             estimator=Pipeline(steps=[('sc', StandardScaler()), ('pca', PCA()),\n",
       "                                       ('lda', LinearDiscriminantAnalysis()),\n",
       "                                       ('knn', KNeighborsClassifier())]),\n",
       "             param_grid=[{'knn__n_neighbors': [3, 5], 'lda': [None],\n",
       "                          'pca__n_components': [2, 3]},\n",
       "                         {'knn__n_neighbors': [3, 5],\n",
       "                          'lda__n_components': [2, 3], 'pca': [None]}],\n",
       "             scoring='neg_mean_squared_error')"
      ]
     },
     "execution_count": 8,
     "metadata": {},
     "output_type": "execute_result"
    }
   ],
   "source": [
    "# Use a nearest neighbor classifier to evaluate the methods\n",
    "# 10, 15, 20, 50, 100\n",
    "params_grid =[{\n",
    "    \"knn__n_neighbors\": [3,5],\n",
    "    \"pca__n_components\":[2,3],\n",
    "    \"lda\":[None]\n",
    "},\n",
    "{\n",
    "    \"knn__n_neighbors\": [3,5],\n",
    "    \"lda__n_components\":[2,3],\n",
    "    \"pca\":[None]\n",
    "}    \n",
    "]\n",
    "\n",
    "grid_search = GridSearchCV(pipe, param_grid = params_grid, cv=5,\n",
    "                               scoring='neg_mean_squared_error')\n",
    "grid_search.fit(X_tr,y_tr)"
   ]
  },
  {
   "cell_type": "code",
   "execution_count": 9,
   "metadata": {},
   "outputs": [
    {
     "name": "stdout",
     "output_type": "stream",
     "text": [
      "{'knn__n_neighbors': 5, 'lda__n_components': 3, 'pca': None}\n",
      "Pipeline(steps=[('sc', StandardScaler()), ('pca', None),\n",
      "                ('lda', LinearDiscriminantAnalysis(n_components=3)),\n",
      "                ('knn', KNeighborsClassifier())])\n"
     ]
    }
   ],
   "source": [
    "print(grid_search.best_params_)\n",
    "model=grid_search.best_estimator_\n",
    "print(model)"
   ]
  },
  {
   "cell_type": "code",
   "execution_count": 10,
   "metadata": {},
   "outputs": [],
   "source": [
    "Y_pred=model.predict(X_te)"
   ]
  },
  {
   "cell_type": "code",
   "execution_count": 11,
   "metadata": {},
   "outputs": [],
   "source": [
    "final_mse = mean_squared_error(y_te,Y_pred )\n",
    "final_rmse = np.sqrt(final_mse)\n",
    "accuracy_score=accuracy_score(y_te,Y_pred )\n"
   ]
  },
  {
   "cell_type": "code",
   "execution_count": 12,
   "metadata": {},
   "outputs": [
    {
     "name": "stdout",
     "output_type": "stream",
     "text": [
      "final_rmse 3.926983575213933\n",
      "accuracy_score is 0.2595\n"
     ]
    }
   ],
   "source": [
    "print(\"final_rmse\", final_rmse)\n",
    "print(\"accuracy_score is\", accuracy_score)"
   ]
  },
  {
   "cell_type": "code",
   "execution_count": 13,
   "metadata": {},
   "outputs": [],
   "source": [
    "pickle.dump(model, open('KNN', 'wb'))"
   ]
  }
 ],
 "metadata": {
  "kernelspec": {
   "display_name": "Python 3",
   "language": "python",
   "name": "python3"
  },
  "language_info": {
   "codemirror_mode": {
    "name": "ipython",
    "version": 3
   },
   "file_extension": ".py",
   "mimetype": "text/x-python",
   "name": "python",
   "nbconvert_exporter": "python",
   "pygments_lexer": "ipython3",
   "version": "3.7.3"
  }
 },
 "nbformat": 4,
 "nbformat_minor": 4
}
