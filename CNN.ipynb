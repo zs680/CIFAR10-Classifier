{
 "cells": [
  {
   "cell_type": "code",
   "execution_count": 1,
   "metadata": {},
   "outputs": [],
   "source": [
    "import tensorflow as tf\n",
    "import numpy as np\n",
    "import random\n",
    "import numpy as np\n",
    "import matplotlib.pyplot as plt\n",
    "import os\n",
    "from six.moves import cPickle as pickle\n",
    "\n",
    "\n",
    "\n",
    "from keras.models import Sequential\n",
    "from keras.layers import Dense, Conv2D, MaxPooling2D\n",
    "from keras.layers import Dropout, Flatten, GlobalAveragePooling2D,BatchNormalization\n",
    "from keras.datasets import cifar10\n",
    "from keras.utils import np_utils\n",
    "from keras.callbacks import ModelCheckpoint\n",
    "\n",
    "\n",
    "# This is a bit of magic to make matplotlib figures appear inline in the notebook\n",
    "# rather than in a new window.\n",
    "%matplotlib inline\n",
    "plt.rcParams['figure.figsize'] = (10.0, 8.0) # set default size of plots\n",
    "plt.rcParams['image.interpolation'] = 'nearest'\n",
    "plt.rcParams['image.cmap'] = 'gray'\n",
    "\n",
    "# Some more magic so that the notebook will reload external python modules;\n",
    "# see http://stackoverflow.com/questions/1907993/autoreload-of-modules-in-ipython\n",
    "%load_ext autoreload\n",
    "%autoreload 2"
   ]
  },
  {
   "cell_type": "code",
   "execution_count": 2,
   "metadata": {},
   "outputs": [],
   "source": [
    "(X_train, y_train), (X_test, y_test) = cifar10.load_data()"
   ]
  },
  {
   "cell_type": "code",
   "execution_count": 3,
   "metadata": {},
   "outputs": [
    {
     "name": "stdout",
     "output_type": "stream",
     "text": [
      "the shape of X_train is (50000, 32, 32, 3)\n",
      "the shape of y_train is (50000, 1)\n",
      "number of classes is 10\n"
     ]
    }
   ],
   "source": [
    "print(\"the shape of X_train is\",X_train.shape)\n",
    "print(\"the shape of y_train is\",y_train.shape)\n",
    "num_classes = len(np.unique(y_train))\n",
    "print(\"number of classes is\",num_classes)"
   ]
  },
  {
   "cell_type": "code",
   "execution_count": 4,
   "metadata": {},
   "outputs": [],
   "source": [
    "#One-hot encoding the labels\n",
    "\n",
    "\n",
    "Y_train = np_utils.to_categorical(y_train, num_classes)\n",
    "Y_test = np_utils.to_categorical(y_test, num_classes)\n"
   ]
  },
  {
   "cell_type": "code",
   "execution_count": 5,
   "metadata": {},
   "outputs": [
    {
     "data": {
      "text/plain": [
       "<matplotlib.image.AxesImage at 0x7f7258790c70>"
      ]
     },
     "execution_count": 5,
     "metadata": {},
     "output_type": "execute_result"
    },
    {
     "data": {
      "image/png": "[encoded data removed]",
      "text/plain": [
       "<Figure size 720x576 with 1 Axes>"
      ]
     },
     "metadata": {
      "needs_background": "light"
     },
     "output_type": "display_data"
    }
   ],
   "source": [
    "plt.imshow(X_train[1])"
   ]
  },
  {
   "cell_type": "code",
   "execution_count": 6,
   "metadata": {},
   "outputs": [
    {
     "name": "stdout",
     "output_type": "stream",
     "text": [
      "Model: \"sequential\"\n",
      "_________________________________________________________________\n",
      "Layer (type)                 Output Shape              Param #   \n",
      "=================================================================\n",
      "conv2d (Conv2D)              (None, 30, 30, 32)        896       \n",
      "_________________________________________________________________\n",
      "max_pooling2d (MaxPooling2D) (None, 15, 15, 32)        0         \n",
      "_________________________________________________________________\n",
      "dropout (Dropout)            (None, 15, 15, 32)        0         \n",
      "_________________________________________________________________\n",
      "conv2d_1 (Conv2D)            (None, 13, 13, 32)        9248      \n",
      "_________________________________________________________________\n",
      "max_pooling2d_1 (MaxPooling2 (None, 6, 6, 32)          0         \n",
      "_________________________________________________________________\n",
      "batch_normalization (BatchNo (None, 6, 6, 32)          128       \n",
      "_________________________________________________________________\n",
      "conv2d_2 (Conv2D)            (None, 4, 4, 64)          18496     \n",
      "_________________________________________________________________\n",
      "max_pooling2d_2 (MaxPooling2 (None, 2, 2, 64)          0         \n",
      "_________________________________________________________________\n",
      "global_average_pooling2d (Gl (None, 64)                0         \n",
      "_________________________________________________________________\n",
      "dense (Dense)                (None, 10)                650       \n",
      "=================================================================\n",
      "Total params: 29,418\n",
      "Trainable params: 29,354\n",
      "Non-trainable params: 64\n",
      "_________________________________________________________________\n"
     ]
    }
   ],
   "source": [
    "model = Sequential()\n",
    "model.add(Conv2D(filters=32, kernel_size=(3, 3), activation='relu',input_shape = X_train[0].shape))\n",
    "model.add(MaxPooling2D(pool_size=(2, 2)))\n",
    "model.add(Dropout(0.25))\n",
    "\n",
    "model.add(Conv2D(filters=32, kernel_size=(3, 3), activation='relu'))\n",
    "model.add(MaxPooling2D(pool_size=(2, 2)))\n",
    "model.add(BatchNormalization())\n",
    "\n",
    "model.add(Conv2D(filters=64, kernel_size=(3, 3), activation='relu'))\n",
    "model.add(MaxPooling2D(pool_size=(2, 2)))\n",
    "\n",
    "model.add(GlobalAveragePooling2D())\n",
    "model.add(Dense(num_classes, activation='softmax'))\n",
    "model.summary()"
   ]
  },
  {
   "cell_type": "code",
   "execution_count": 7,
   "metadata": {},
   "outputs": [],
   "source": [
    "\"\"\"loss='sparse_categorical_crossentropy',\n",
    "metrics=[tf.keras.metrics.sparse_categorical_accuracy]\"\"\"\n",
    "optimizer=tf.keras.optimizers.RMSprop(learning_rate=0.1)\n",
    "model.compile(loss=\"categorical_crossentropy\",optimizer=optimizer,metrics=[\"accuracy\"])\n"
   ]
  },
  {
   "cell_type": "code",
   "execution_count": 8,
   "metadata": {},
   "outputs": [],
   "source": [
    "X_train= X_train/255\n",
    "X_test = X_test/255"
   ]
  },
  {
   "cell_type": "code",
   "execution_count": 9,
   "metadata": {},
   "outputs": [],
   "source": [
    "\n",
    "checkpointer =ModelCheckpoint(filepath='scratchmodel.best.hdf5', \n",
    "                               verbose=1,save_best_only=True)"
   ]
  },
  {
   "cell_type": "code",
   "execution_count": 10,
   "metadata": {},
   "outputs": [
    {
     "name": "stdout",
     "output_type": "stream",
     "text": [
      "Epoch 1/10\n",
      "1246/1250 [============================>.] - ETA: 0s - loss: 2.6266 - accuracy: 0.1019\n",
      "Epoch 00001: val_loss improved from inf to 2.33067, saving model to scratchmodel.best.hdf5\n",
      "1250/1250 [==============================] - 10s 8ms/step - loss: 2.6256 - accuracy: 0.1019 - val_loss: 2.3307 - val_accuracy: 0.1014\n",
      "Epoch 2/10\n",
      "1244/1250 [============================>.] - ETA: 0s - loss: 2.3163 - accuracy: 0.1009\n",
      "Epoch 00002: val_loss improved from 2.33067 to 2.30791, saving model to scratchmodel.best.hdf5\n",
      "1250/1250 [==============================] - 9s 7ms/step - loss: 2.3163 - accuracy: 0.1008 - val_loss: 2.3079 - val_accuracy: 0.1014\n",
      "Epoch 3/10\n",
      "1246/1250 [============================>.] - ETA: 0s - loss: 2.3385 - accuracy: 0.1025\n",
      "Epoch 00003: val_loss did not improve from 2.30791\n",
      "1250/1250 [==============================] - 8s 7ms/step - loss: 2.3384 - accuracy: 0.1025 - val_loss: 2.3151 - val_accuracy: 0.1022\n",
      "Epoch 4/10\n",
      "1245/1250 [============================>.] - ETA: 0s - loss: 2.3161 - accuracy: 0.1013\n",
      "Epoch 00004: val_loss did not improve from 2.30791\n",
      "1250/1250 [==============================] - 9s 7ms/step - loss: 2.3161 - accuracy: 0.1014 - val_loss: 2.3162 - val_accuracy: 0.0997\n",
      "Epoch 5/10\n",
      "1247/1250 [============================>.] - ETA: 0s - loss: 2.3165 - accuracy: 0.1003\n",
      "Epoch 00005: val_loss did not improve from 2.30791\n",
      "1250/1250 [==============================] - 9s 7ms/step - loss: 2.3164 - accuracy: 0.1003 - val_loss: 2.3278 - val_accuracy: 0.0980\n",
      "Epoch 6/10\n",
      "1247/1250 [============================>.] - ETA: 0s - loss: 2.3164 - accuracy: 0.0995\n",
      "Epoch 00006: val_loss did not improve from 2.30791\n",
      "1250/1250 [==============================] - 9s 7ms/step - loss: 2.3164 - accuracy: 0.0995 - val_loss: 2.3102 - val_accuracy: 0.1014\n",
      "Epoch 7/10\n",
      "1249/1250 [============================>.] - ETA: 0s - loss: 2.3159 - accuracy: 0.0992\n",
      "Epoch 00007: val_loss did not improve from 2.30791\n",
      "1250/1250 [==============================] - 9s 7ms/step - loss: 2.3159 - accuracy: 0.0992 - val_loss: 2.3215 - val_accuracy: 0.1014\n",
      "Epoch 8/10\n",
      "1244/1250 [============================>.] - ETA: 0s - loss: 2.3168 - accuracy: 0.0988\n",
      "Epoch 00008: val_loss did not improve from 2.30791\n",
      "1250/1250 [==============================] - 9s 7ms/step - loss: 2.3168 - accuracy: 0.0988 - val_loss: 2.3213 - val_accuracy: 0.0952\n",
      "Epoch 9/10\n",
      "1244/1250 [============================>.] - ETA: 0s - loss: 2.3155 - accuracy: 0.0996\n",
      "Epoch 00009: val_loss did not improve from 2.30791\n",
      "1250/1250 [==============================] - 9s 7ms/step - loss: 2.3155 - accuracy: 0.0996 - val_loss: 2.3257 - val_accuracy: 0.1003\n",
      "Epoch 10/10\n",
      "1247/1250 [============================>.] - ETA: 0s - loss: 2.3163 - accuracy: 0.0987\n",
      "Epoch 00010: val_loss did not improve from 2.30791\n",
      "1250/1250 [==============================] - 10s 8ms/step - loss: 2.3163 - accuracy: 0.0987 - val_loss: 2.3090 - val_accuracy: 0.0980\n"
     ]
    },
    {
     "data": {
      "text/plain": [
       "<tensorflow.python.keras.callbacks.History at 0x7f7263a4c880>"
      ]
     },
     "execution_count": 10,
     "metadata": {},
     "output_type": "execute_result"
    }
   ],
   "source": [
    "model.fit(X_train, Y_train, batch_size=32, epochs=10, \n",
    "          verbose=1, callbacks=[checkpointer], validation_split=0.2, shuffle=True)"
   ]
  },
  {
   "cell_type": "code",
   "execution_count": 11,
   "metadata": {},
   "outputs": [
    {
     "name": "stdout",
     "output_type": "stream",
     "text": [
      "313/313 [==============================] - 1s 2ms/step - loss: 2.3088 - accuracy: 0.1000\n"
     ]
    }
   ],
   "source": [
    "score = model.evaluate(X_test, Y_test)"
   ]
  },
  {
   "cell_type": "code",
   "execution_count": 12,
   "metadata": {},
   "outputs": [
    {
     "name": "stdout",
     "output_type": "stream",
     "text": [
      "Model: \"sequential_1\"\n",
      "_________________________________________________________________\n",
      "Layer (type)                 Output Shape              Param #   \n",
      "=================================================================\n",
      "conv2d_3 (Conv2D)            (None, 30, 30, 32)        896       \n",
      "_________________________________________________________________\n",
      "max_pooling2d_3 (MaxPooling2 (None, 15, 15, 32)        0         \n",
      "_________________________________________________________________\n",
      "conv2d_4 (Conv2D)            (None, 13, 13, 32)        9248      \n",
      "_________________________________________________________________\n",
      "max_pooling2d_4 (MaxPooling2 (None, 6, 6, 32)          0         \n",
      "_________________________________________________________________\n",
      "conv2d_5 (Conv2D)            (None, 4, 4, 64)          18496     \n",
      "_________________________________________________________________\n",
      "max_pooling2d_5 (MaxPooling2 (None, 2, 2, 64)          0         \n",
      "_________________________________________________________________\n",
      "global_average_pooling2d_1 ( (None, 64)                0         \n",
      "_________________________________________________________________\n",
      "dense_1 (Dense)              (None, 10)                650       \n",
      "=================================================================\n",
      "Total params: 29,290\n",
      "Trainable params: 29,290\n",
      "Non-trainable params: 0\n",
      "_________________________________________________________________\n"
     ]
    }
   ],
   "source": [
    "model1 = Sequential()\n",
    "model1.add(Conv2D(32, (3, 3), activation='relu',input_shape =  (32, 32, 3)))\n",
    "model1.add(MaxPooling2D(pool_size=(2, 2)))\n",
    "\n",
    "model1.add(Conv2D(32, (3, 3), activation='relu'))\n",
    "model1.add(MaxPooling2D(pool_size=(2, 2)))\n",
    "\n",
    "model1.add(Conv2D(64, (3, 3), activation='relu'))\n",
    "model1.add(MaxPooling2D(pool_size=(2, 2)))\n",
    "\n",
    "model1.add(GlobalAveragePooling2D())\n",
    "model1.add(Dense(10, activation='softmax'))\n",
    "model1.summary()"
   ]
  },
  {
   "cell_type": "code",
   "execution_count": 13,
   "metadata": {},
   "outputs": [],
   "source": [
    "opt = tf.keras.optimizers.Adam(learning_rate=0.1)\n",
    "model1.compile(loss='binary_crossentropy', optimizer=opt,\n",
    "              metrics=['accuracy'])"
   ]
  },
  {
   "cell_type": "code",
   "execution_count": 14,
   "metadata": {},
   "outputs": [],
   "source": [
    "checkpointer =ModelCheckpoint(filepath='scratchmodel1.best.hdf5', \n",
    "                               verbose=1,save_best_only=True)"
   ]
  },
  {
   "cell_type": "code",
   "execution_count": 21,
   "metadata": {},
   "outputs": [
    {
     "name": "stdout",
     "output_type": "stream",
     "text": [
      "Epoch 1/20\n",
      "622/625 [============================>.] - ETA: 0s - loss: 2.7630 - accuracy: 0.0993\n",
      "Epoch 00001: val_loss improved from inf to 2.75393, saving model to scratchmodel2.best.hdf5\n",
      "625/625 [==============================] - 11s 18ms/step - loss: 2.7624 - accuracy: 0.0994 - val_loss: 2.7539 - val_accuracy: 0.1022\n",
      "Epoch 2/20\n",
      "624/625 [============================>.] - ETA: 0s - loss: 2.7627 - accuracy: 0.0993\n",
      "Epoch 00002: val_loss did not improve from 2.75393\n",
      "625/625 [==============================] - 8s 13ms/step - loss: 2.7624 - accuracy: 0.0994 - val_loss: 2.7539 - val_accuracy: 0.1022\n",
      "Epoch 3/20\n",
      "624/625 [============================>.] - ETA: 0s - loss: 2.7626 - accuracy: 0.0994\n",
      "Epoch 00003: val_loss did not improve from 2.75393\n",
      "625/625 [==============================] - 8s 13ms/step - loss: 2.7624 - accuracy: 0.0994 - val_loss: 2.7539 - val_accuracy: 0.1022\n",
      "Epoch 4/20\n",
      "624/625 [============================>.] - ETA: 0s - loss: 2.7625 - accuracy: 0.0994\n",
      "Epoch 00004: val_loss did not improve from 2.75393\n",
      "625/625 [==============================] - 8s 13ms/step - loss: 2.7624 - accuracy: 0.0994 - val_loss: 2.7539 - val_accuracy: 0.1022\n",
      "Epoch 5/20\n",
      "625/625 [==============================] - ETA: 0s - loss: 2.7624 - accuracy: 0.0994\n",
      "Epoch 00005: val_loss did not improve from 2.75393\n",
      "625/625 [==============================] - 7s 12ms/step - loss: 2.7624 - accuracy: 0.0994 - val_loss: 2.7539 - val_accuracy: 0.1022\n",
      "Epoch 6/20\n",
      "623/625 [============================>.] - ETA: 0s - loss: 2.7629 - accuracy: 0.0993\n",
      "Epoch 00006: val_loss did not improve from 2.75393\n",
      "625/625 [==============================] - 8s 12ms/step - loss: 2.7624 - accuracy: 0.0994 - val_loss: 2.7539 - val_accuracy: 0.1022\n",
      "Epoch 7/20\n",
      "621/625 [============================>.] - ETA: 0s - loss: 2.7626 - accuracy: 0.0994\n",
      "Epoch 00007: val_loss did not improve from 2.75393\n",
      "625/625 [==============================] - 8s 13ms/step - loss: 2.7624 - accuracy: 0.0994 - val_loss: 2.7539 - val_accuracy: 0.1022\n",
      "Epoch 8/20\n",
      "624/625 [============================>.] - ETA: 0s - loss: 2.7620 - accuracy: 0.0996\n",
      "Epoch 00008: val_loss did not improve from 2.75393\n",
      "625/625 [==============================] - 8s 12ms/step - loss: 2.7624 - accuracy: 0.0994 - val_loss: 2.7539 - val_accuracy: 0.1022\n",
      "Epoch 9/20\n",
      "624/625 [============================>.] - ETA: 0s - loss: 2.7626 - accuracy: 0.0994\n",
      "Epoch 00009: val_loss did not improve from 2.75393\n",
      "625/625 [==============================] - 8s 12ms/step - loss: 2.7624 - accuracy: 0.0994 - val_loss: 2.7539 - val_accuracy: 0.1022\n",
      "Epoch 10/20\n",
      "621/625 [============================>.] - ETA: 0s - loss: 2.7625 - accuracy: 0.0994\n",
      "Epoch 00010: val_loss did not improve from 2.75393\n",
      "625/625 [==============================] - 8s 12ms/step - loss: 2.7624 - accuracy: 0.0994 - val_loss: 2.7539 - val_accuracy: 0.1022\n",
      "Epoch 11/20\n",
      "622/625 [============================>.] - ETA: 0s - loss: 2.7624 - accuracy: 0.0995\n",
      "Epoch 00011: val_loss did not improve from 2.75393\n",
      "625/625 [==============================] - 8s 12ms/step - loss: 2.7624 - accuracy: 0.0994 - val_loss: 2.7539 - val_accuracy: 0.1022\n",
      "Epoch 12/20\n",
      "621/625 [============================>.] - ETA: 0s - loss: 2.7627 - accuracy: 0.0993\n",
      "Epoch 00012: val_loss did not improve from 2.75393\n",
      "625/625 [==============================] - 8s 12ms/step - loss: 2.7624 - accuracy: 0.0994 - val_loss: 2.7539 - val_accuracy: 0.1022\n",
      "Epoch 13/20\n",
      "622/625 [============================>.] - ETA: 0s - loss: 2.7623 - accuracy: 0.0995\n",
      "Epoch 00013: val_loss did not improve from 2.75393\n",
      "625/625 [==============================] - 8s 12ms/step - loss: 2.7624 - accuracy: 0.0994 - val_loss: 2.7539 - val_accuracy: 0.1022\n",
      "Epoch 14/20\n",
      "624/625 [============================>.] - ETA: 0s - loss: 2.7623 - accuracy: 0.0995\n",
      "Epoch 00014: val_loss did not improve from 2.75393\n",
      "625/625 [==============================] - 8s 12ms/step - loss: 2.7624 - accuracy: 0.0994 - val_loss: 2.7539 - val_accuracy: 0.1022\n",
      "Epoch 15/20\n",
      "622/625 [============================>.] - ETA: 0s - loss: 2.7623 - accuracy: 0.0995\n",
      "Epoch 00015: val_loss did not improve from 2.75393\n",
      "625/625 [==============================] - 8s 13ms/step - loss: 2.7624 - accuracy: 0.0994 - val_loss: 2.7539 - val_accuracy: 0.1022\n",
      "Epoch 16/20\n",
      "623/625 [============================>.] - ETA: 0s - loss: 2.7622 - accuracy: 0.0995\n",
      "Epoch 00016: val_loss did not improve from 2.75393\n",
      "625/625 [==============================] - 8s 12ms/step - loss: 2.7624 - accuracy: 0.0994 - val_loss: 2.7539 - val_accuracy: 0.1022\n",
      "Epoch 17/20\n",
      "621/625 [============================>.] - ETA: 0s - loss: 2.7618 - accuracy: 0.0996\n",
      "Epoch 00017: val_loss did not improve from 2.75393\n",
      "625/625 [==============================] - 8s 13ms/step - loss: 2.7624 - accuracy: 0.0994 - val_loss: 2.7539 - val_accuracy: 0.1022\n",
      "Epoch 18/20\n",
      "625/625 [==============================] - ETA: 0s - loss: 2.7624 - accuracy: 0.0994\n",
      "Epoch 00018: val_loss did not improve from 2.75393\n",
      "625/625 [==============================] - 8s 13ms/step - loss: 2.7624 - accuracy: 0.0994 - val_loss: 2.7539 - val_accuracy: 0.1022\n",
      "Epoch 19/20\n",
      "623/625 [============================>.] - ETA: 0s - loss: 2.7622 - accuracy: 0.0995\n",
      "Epoch 00019: val_loss did not improve from 2.75393\n",
      "625/625 [==============================] - 8s 13ms/step - loss: 2.7624 - accuracy: 0.0994 - val_loss: 2.7539 - val_accuracy: 0.1022\n",
      "Epoch 20/20\n",
      "621/625 [============================>.] - ETA: 0s - loss: 2.7626 - accuracy: 0.0994\n",
      "Epoch 00020: val_loss did not improve from 2.75393\n",
      "625/625 [==============================] - 8s 13ms/step - loss: 2.7624 - accuracy: 0.0994 - val_loss: 2.7539 - val_accuracy: 0.1022\n"
     ]
    },
    {
     "data": {
      "text/plain": [
       "<tensorflow.python.keras.callbacks.History at 0x7f725af84430>"
      ]
     },
     "execution_count": 21,
     "metadata": {},
     "output_type": "execute_result"
    }
   ],
   "source": [
    "\n",
    "model1.fit(X_train, Y_train, batch_size=64, epochs=20, \n",
    "          verbose=1, callbacks=[checkpointer], validation_split=0.2, shuffle=True)"
   ]
  },
  {
   "cell_type": "code",
   "execution_count": 16,
   "metadata": {},
   "outputs": [
    {
     "name": "stdout",
     "output_type": "stream",
     "text": [
      "313/313 [==============================] - 1s 2ms/step - loss: 2.7607 - accuracy: 0.1000\n"
     ]
    }
   ],
   "source": [
    "score = model1.evaluate(X_test, Y_test)"
   ]
  }
 ],
 "metadata": {
  "kernelspec": {
   "display_name": "Python 3",
   "language": "python",
   "name": "python3"
  },
  "language_info": {
   "codemirror_mode": {
    "name": "ipython",
    "version": 3
   },
   "file_extension": ".py",
   "mimetype": "text/x-python",
   "name": "python",
   "nbconvert_exporter": "python",
   "pygments_lexer": "ipython3",
   "version": "3.7.3"
  }
 },
 "nbformat": 4,
 "nbformat_minor": 2
}
